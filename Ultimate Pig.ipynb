{
 "cells": [
  {
   "cell_type": "markdown",
   "metadata": {
    "collapsed": true
   },
   "source": [
    "# Ultimate Pig - An Analysis of Play Styles"
   ]
  },
  {
   "cell_type": "markdown",
   "metadata": {},
   "source": [
    "#### The purpose of this exercise is to analyze three different styles of play for Pig Solitaire. This is accomplished through use of three Python Objects representing the play styles. The resulting data was culled from a number of simulations for each of the three playstyles."
   ]
  },
  {
   "cell_type": "markdown",
   "metadata": {},
   "source": [
    "The three play styles are:\n",
    "1. 'Basic' - This player type will roll the die one time and one time only. This player quits (\"holds\") after the first roll.\n",
    "2. 'Random' - This player type will choose randomly between rolling the die again after the first roll and for each subsequent turn.\n",
    "3. 'Gambler' - This player type refuses to hold and will always roll until he rolls a one, thus ending the game, or he has made seven rolls and the game is over."
   ]
  },
  {
   "cell_type": "markdown",
   "metadata": {},
   "source": [
    "The rules of Pig Solitaire are:\n",
    ">In 7 turns, you are attempting to get the highest score possible. \n",
    ">Each turn, you have two choices:\n",
    "\n",
    ">Roll. Roll a six-sided die. If it comes up one, your turn is over and you add nothing to your score. If it comes up two through six, you add that number to your turn total and choose again.\n",
    ">Hold. If you hold, you add the turn total to your score."
   ]
  },
  {
   "cell_type": "markdown",
   "metadata": {},
   "source": [
    "## Basic Code:"
   ]
  },
  {
   "cell_type": "code",
   "execution_count": 42,
   "metadata": {
    "collapsed": false
   },
   "outputs": [
    {
     "ename": "ImportError",
     "evalue": "No module named 'seaborn'",
     "output_type": "error",
     "traceback": [
      "\u001b[0;31m---------------------------------------------------------------------------\u001b[0m",
      "\u001b[0;31mImportError\u001b[0m                               Traceback (most recent call last)",
      "\u001b[0;32m<ipython-input-42-2e2b61e27de4>\u001b[0m in \u001b[0;36m<module>\u001b[0;34m()\u001b[0m\n\u001b[1;32m      5\u001b[0m \u001b[0;32mimport\u001b[0m \u001b[0mnumpy\u001b[0m \u001b[0;32mas\u001b[0m \u001b[0mnp\u001b[0m\u001b[0;34m\u001b[0m\u001b[0m\n\u001b[1;32m      6\u001b[0m \u001b[0;32mimport\u001b[0m \u001b[0mmatplotlib\u001b[0m\u001b[0;34m.\u001b[0m\u001b[0mpyplot\u001b[0m \u001b[0;32mas\u001b[0m \u001b[0mplt\u001b[0m\u001b[0;34m\u001b[0m\u001b[0m\n\u001b[0;32m----> 7\u001b[0;31m \u001b[0;32mimport\u001b[0m \u001b[0mseaborn\u001b[0m\u001b[0;34m\u001b[0m\u001b[0m\n\u001b[0m",
      "\u001b[0;31mImportError\u001b[0m: No module named 'seaborn'"
     ]
    }
   ],
   "source": [
    "%matplotlib inline\n",
    "import random\n",
    "import math\n",
    "import statistics as st\n",
    "import numpy as np\n",
    "import matplotlib.pyplot as plt\n",
    "import seaborn"
   ]
  },
  {
   "cell_type": "code",
   "execution_count": 25,
   "metadata": {
    "collapsed": false
   },
   "outputs": [],
   "source": [
    "class Player:\n",
    "\n",
    "    def __init__(self, personality):\n",
    "        self.personality = personality #my idea being that the personality aspect determines how they play game below\n",
    "\n",
    "    def roll_a_die(self):\n",
    "        return random.randint(1, 6)\n",
    "\n",
    "    def roll_again(self):\n",
    "        return False\n",
    "\n",
    "\n",
    "    # def turn_decision(self):\n",
    "    #     if self.personality\n",
    "\n",
    "    def turn(self):\n",
    "        roll_results_list = []\n",
    "        roll_number = 1\n",
    "        while roll_number < 7:\n",
    "            roll = self.roll_a_die()\n",
    "            if roll == 1:\n",
    "                roll_results_list = [0]\n",
    "                # print('You rolled a one, end of turn. You rolled {} times.'.format(roll_number))\n",
    "                return sum(roll_results_list)\n",
    "            else:\n",
    "                roll_results_list.append(roll)\n",
    "                roll_or_hold = self.roll_again()\n",
    "                if roll_or_hold == False:\n",
    "                    # print('You choose not to roll. Your score is {} in {} turns'.format(sum(roll_results_list), roll_number))\n",
    "                    return sum(roll_results_list)\n",
    "                else:\n",
    "                    roll_number += 1\n",
    "                    roll_results_list.append(roll)\n",
    "                    continue\n",
    "        # print('The game is over. Your score is {} in {} turns.'.format(sum(roll_results_list), roll_number))\n",
    "        return sum(roll_results_list)"
   ]
  },
  {
   "cell_type": "code",
   "execution_count": 26,
   "metadata": {
    "collapsed": true
   },
   "outputs": [],
   "source": [
    "class RandomPlayer(Player):\n",
    "\n",
    "    def __init__(self, personality):\n",
    "        self.personality = personality\n",
    "\n",
    "    def roll_again(self):\n",
    "        return random.choice([True, False])"
   ]
  },
  {
   "cell_type": "code",
   "execution_count": 27,
   "metadata": {
    "collapsed": true
   },
   "outputs": [],
   "source": [
    "class GamblerPlayer(Player):\n",
    "\n",
    "    def __init__(self, personality):\n",
    "        self.personality = personality\n",
    "\n",
    "    def roll_again(self):\n",
    "        return True"
   ]
  },
  {
   "cell_type": "code",
   "execution_count": 36,
   "metadata": {
    "collapsed": false
   },
   "outputs": [],
   "source": [
    "trial_results = []\n",
    "for _ in range(50):\n",
    "    player = Player('basic')\n",
    "    trial_results.append(player.turn())"
   ]
  },
  {
   "cell_type": "code",
   "execution_count": 37,
   "metadata": {
    "collapsed": false
   },
   "outputs": [
    {
     "name": "stdout",
     "output_type": "stream",
     "text": [
      "[4, 6, 5, 2, 5, 3, 4, 6, 0, 6, 2, 3, 6, 5, 3, 0, 5, 6, 5, 4, 3, 2, 6, 2, 2, 2, 6, 4, 6, 6, 0, 0, 5, 2, 2, 5, 4, 4, 0, 0, 4, 6, 3, 0, 2, 0, 4, 3, 0, 3]\n"
     ]
    }
   ],
   "source": [
    "print(trial_results)"
   ]
  },
  {
   "cell_type": "code",
   "execution_count": 40,
   "metadata": {
    "collapsed": false
   },
   "outputs": [
    {
     "data": {
      "image/png": "[encoded data removed]",
      "text/plain": [
       "<matplotlib.figure.Figure at 0x114b75a90>"
      ]
     },
     "metadata": {},
     "output_type": "display_data"
    }
   ],
   "source": [
    "x1 = range(len(trial_results))\n",
    "y1 = trial_results\n",
    "plt.scatter(range(len(trial_results)), y1)\n",
    "plt.xticks(range(len(trial_results)), x1)\n",
    "plt.xlabel(\"Trial Number\")\n",
    "plt.ylabel(\"Resulting Score\")\n",
    "plt.title(\"Scores over Trials\")\n",
    "plt.show()"
   ]
  },
  {
   "cell_type": "code",
   "execution_count": null,
   "metadata": {
    "collapsed": true
   },
   "outputs": [],
   "source": []
  },
  {
   "cell_type": "code",
   "execution_count": null,
   "metadata": {
    "collapsed": true
   },
   "outputs": [],
   "source": []
  }
 ],
 "metadata": {
  "kernelspec": {
   "display_name": "Python 3",
   "language": "python",
   "name": "python3"
  },
  "language_info": {
   "codemirror_mode": {
    "name": "ipython",
    "version": 3
   },
   "file_extension": ".py",
   "mimetype": "text/x-python",
   "name": "python",
   "nbconvert_exporter": "python",
   "pygments_lexer": "ipython3",
   "version": "3.5.1"
  }
 },
 "nbformat": 4,
 "nbformat_minor": 0
}
